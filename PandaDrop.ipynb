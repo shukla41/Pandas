{
 "cells": [
  {
   "cell_type": "code",
   "execution_count": 68,
   "metadata": {},
   "outputs": [
    {
     "data": {
      "text/plain": [
       "2519    B\n",
       "2523    B\n",
       "2525    B\n",
       "2533    B\n",
       "2534    B\n",
       "Name: race, dtype: object"
      ]
     },
     "execution_count": 68,
     "metadata": {},
     "output_type": "execute_result"
    }
   ],
   "source": [
    "\n",
    "## Pandas Tutorial: \n",
    "##Topic: DataFrame\n",
    "\n",
    "## Select one or two more columns \n",
    "import pandas as pd\n",
    "import numpy as np  \n",
    "\n",
    "kill= pd.read_csv(r'C:\\Users\\shumondal\\Desktop\\data\\PoliceKillingsUS.csv', encoding=\"windows-1252\")\n",
    "kill.head(2)\n",
    "## Select one or two more columns \n",
    "colSelect= kill[['name','date','age']].head(4)\n",
    "colSelect\n",
    "\n",
    "## How to add a new column in dataframe\n",
    "\n",
    "zip=[10001,10002,10003,10004]  ## Note that the length of your list should match the length of the index column\n",
    "colSelect['zip']=zip\n",
    "colSelect\n",
    "\n",
    "## Dropping Rows\n",
    "dropRow=colSelect.drop([0,1])  ## check the index before that in the dataset\n",
    "\n",
    "##Drop a Columns In pandas Dataframe\n",
    "dropCol=dropRow.drop(['age'],axis=1)\n",
    "dropCol\n",
    "\n",
    "## Drop a row if it contains a certain value\n",
    "dropZip=dropCol[dropCol['zip'] !=10003]\n",
    "dropZip\n",
    "\n",
    "##  Drop a Nan value from a dataframe, col race has NAN value . \n",
    "## before that we can check dataframe and which column we have nan value, to see that we can use \n",
    "kill.isna().sum()\n",
    "## now if we want to drop all NaN row fro dataframe, then we can write below\n",
    "filterNaRow=kill.dropna()\n",
    "filterNaRow.isna().sum()\n",
    "\n",
    "## now if we want to drop all NaN row for a particular row, then we can write below\n",
    "race=kill['race'].dropna()\n",
    "race\n",
    "\n",
    "## Drop a row by index number\n",
    "race=race.drop(race.index[2])\n",
    "race\n",
    "\n",
    "## Drop a row by range ... index start from 0\n",
    "race=race.drop(race.index[[3,4]])\n",
    "race\n",
    "\n",
    "## how to remove row from the bottom of the dataframe. Index start from -1\n",
    "race=race.drop(race.index[-3])\n",
    "race.tail(5)"
   ]
  },
  {
   "cell_type": "code",
   "execution_count": 75,
   "metadata": {},
   "outputs": [],
   "source": [
    "from sklearn.datasets import load_iris\n",
    "from sklearn.feature_selection import SelectKBest\n",
    "from sklearn.feature_selection import f_classif"
   ]
  },
  {
   "cell_type": "code",
   "execution_count": 78,
   "metadata": {},
   "outputs": [],
   "source": [
    "y=kill['signs_of_mental_illness']"
   ]
  },
  {
   "cell_type": "code",
   "execution_count": 81,
   "metadata": {},
   "outputs": [],
   "source": [
    "x=kill.drop(['signs_of_mental_illness'], axis=1)"
   ]
  },
  {
   "cell_type": "code",
   "execution_count": 100,
   "metadata": {},
   "outputs": [],
   "source": [
    "y1=y"
   ]
  },
  {
   "cell_type": "code",
   "execution_count": 110,
   "metadata": {},
   "outputs": [],
   "source": [
    "if (y1.)"
   ]
  },
  {
   "cell_type": "code",
   "execution_count": 105,
   "metadata": {},
   "outputs": [
    {
     "data": {
      "text/plain": [
       "0        True\n",
       "1       False\n",
       "2       False\n",
       "3        True\n",
       "4       False\n",
       "5       False\n",
       "6       False\n",
       "7       False\n",
       "8       False\n",
       "9       False\n",
       "10      False\n",
       "11      False\n",
       "12       True\n",
       "13      False\n",
       "14      False\n",
       "15      False\n",
       "16      False\n",
       "17      False\n",
       "18      False\n",
       "19      False\n",
       "20      False\n",
       "21       True\n",
       "22      False\n",
       "23      False\n",
       "24      False\n",
       "25       True\n",
       "26      False\n",
       "27      False\n",
       "28       True\n",
       "29      False\n",
       "        ...  \n",
       "2505    False\n",
       "2506    False\n",
       "2507    False\n",
       "2508    False\n",
       "2509    False\n",
       "2510    False\n",
       "2511    False\n",
       "2512     True\n",
       "2513    False\n",
       "2514    False\n",
       "2515     True\n",
       "2516     True\n",
       "2517    False\n",
       "2518     True\n",
       "2519    False\n",
       "2520    False\n",
       "2521    False\n",
       "2522     True\n",
       "2523    False\n",
       "2524    False\n",
       "2525    False\n",
       "2526    False\n",
       "2527    False\n",
       "2528    False\n",
       "2529     True\n",
       "2530    False\n",
       "2531    False\n",
       "2532    False\n",
       "2533    False\n",
       "2534     True\n",
       "Name: signs_of_mental_illness, Length: 2535, dtype: bool"
      ]
     },
     "execution_count": 105,
     "metadata": {},
     "output_type": "execute_result"
    }
   ],
   "source": [
    "y1"
   ]
  }
 ],
 "metadata": {
  "kernelspec": {
   "display_name": "Python 3",
   "language": "python",
   "name": "python3"
  },
  "language_info": {
   "codemirror_mode": {
    "name": "ipython",
    "version": 3
   },
   "file_extension": ".py",
   "mimetype": "text/x-python",
   "name": "python",
   "nbconvert_exporter": "python",
   "pygments_lexer": "ipython3",
   "version": "3.7.3"
  }
 },
 "nbformat": 4,
 "nbformat_minor": 2
}
