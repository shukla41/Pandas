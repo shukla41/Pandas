{
 "cells": [
  {
   "cell_type": "code",
   "execution_count": 68,
   "metadata": {},
   "outputs": [
    {
     "data": {
      "text/plain": [
       "2519    B\n",
       "2523    B\n",
       "2525    B\n",
       "2533    B\n",
       "2534    B\n",
       "Name: race, dtype: object"
      ]
     },
     "execution_count": 68,
     "metadata": {},
     "output_type": "execute_result"
    }
   ],
   "source": [
    "\n",
    "## Pandas Tutorial: \n",
    "##Topic: DataFrame\n",
    "\n",
    "## Select one or two more columns \n",
    "import pandas as pd\n",
    "import numpy as np  \n",
    "\n",
    "kill= pd.read_csv(r'C:\\Users\\shumondal\\Desktop\\data\\PoliceKillingsUS.csv', encoding=\"windows-1252\")\n",
    "kill.head(2)\n",
    "## Select one or two more columns \n",
    "colSelect= kill[['name','date','age']].head(4)\n",
    "colSelect\n",
    "\n",
    "## How to add a new column in dataframe\n",
    "\n",
    "zip=[10001,10002,10003,10004]  ## Note that the length of your list should match the length of the index column\n",
    "colSelect['zip']=zip\n",
    "colSelect\n",
    "\n",
    "## Dropping Rows\n",
    "dropRow=colSelect.drop([0,1])  ## check the index before that in the dataset\n",
    "\n",
    "##Drop a Columns In pandas Dataframe\n",
    "dropCol=dropRow.drop(['age'],axis=1)\n",
    "dropCol\n",
    "\n",
    "## Drop a row if it contains a certain value\n",
    "dropZip=dropCol[dropCol['zip'] !=10003]\n",
    "dropZip\n",
    "\n",
    "##  Drop a Nan value from a dataframe, col race has NAN value . \n",
    "## before that we can check dataframe and which column we have nan value, to see that we can use \n",
    "kill.isna().sum()\n",
    "## now if we want to drop all NaN row fro dataframe, then we can write below\n",
    "filterNaRow=kill.dropna()\n",
    "filterNaRow.isna().sum()\n",
    "\n",
    "## now if we want to drop all NaN row for a particular row, then we can write below\n",
    "race=kill['race'].dropna()\n",
    "race\n",
    "\n",
    "## Drop a row by index number\n",
    "race=race.drop(race.index[2])\n",
    "race\n",
    "\n",
    "## Drop a row by range ... index start from 0\n",
    "race=race.drop(race.index[[3,4]])\n",
    "race\n",
    "\n",
    "## how to remove row from the bottom of the dataframe. Index start from -1\n",
    "race=race.drop(race.index[-3])\n",
    "race.tail(5)"
   ]
  },
  {
   "cell_type": "code",
   "execution_count": null,
   "metadata": {},
   "outputs": [],
   "source": []
  }
 ],
 "metadata": {
  "kernelspec": {
   "display_name": "Python 3",
   "language": "python",
   "name": "python3"
  },
  "language_info": {
   "codemirror_mode": {
    "name": "ipython",
    "version": 3
   },
   "file_extension": ".py",
   "mimetype": "text/x-python",
   "name": "python",
   "nbconvert_exporter": "python",
   "pygments_lexer": "ipython3",
   "version": "3.7.3"
  }
 },
 "nbformat": 4,
 "nbformat_minor": 2
}
