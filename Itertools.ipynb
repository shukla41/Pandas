{
 "cells": [
  {
   "cell_type": "code",
   "execution_count": 22,
   "metadata": {},
   "outputs": [
    {
     "name": "stdout",
     "output_type": "stream",
     "text": [
      "{0: 100, 1: 200, 2: 300, 3: 400}\n",
      "{0: 100, 1: 200, 2: 300, 3: 400}\n"
     ]
    }
   ],
   "source": [
    "import itertools\n",
    "import pandas as pd\n",
    "## Need for sequence, along with other columns in the dataframe\n",
    "count= itertools.count()\n",
    "data= [100,200,300,400]\n",
    "\n",
    "## Using zip function with count. Its same as range\n",
    "data1= zip(itertools.count(),data)\n",
    "data2=zip(range(10),data)\n",
    "print( (dict(data1)))\n",
    "print(dict(data2))\n"
   ]
  },
  {
   "cell_type": "code",
   "execution_count": 19,
   "metadata": {},
   "outputs": [
    {
     "name": "stdout",
     "output_type": "stream",
     "text": [
      "[(0, 100), (1, 200), (2, 300), (3, 400), (4, None), (5, None), (6, None), (7, None), (8, None), (9, None)]\n"
     ]
    }
   ],
   "source": [
    "## zip longest from itertolls if you want to print all values in range including None\n",
    "data2=__builtins__.list(itertools.zip_longest(range(10),data))\n",
    "print(data2)"
   ]
  },
  {
   "cell_type": "code",
   "execution_count": 27,
   "metadata": {},
   "outputs": [
    {
     "name": "stdout",
     "output_type": "stream",
     "text": [
      "[(0, 'Shelton'), (1, 'Aloha'), (2, 'Wichita'), (3, 'San Francisco'), (4, 'Evans'), (5, 'Guthrie'), (6, 'Chandler'), (7, 'Assaria'), (8, 'Burlington'), (9, 'Knoxville')]\n"
     ]
    }
   ],
   "source": [
    "kill= pd.read_csv(r'C:\\Users\\shumondal\\Desktop\\data\\PoliceKillingsUS.csv', encoding=\"windows-1252\")\n",
    "data=kill[['id','city']].head(10)\n",
    "data1= __builtins__.list(zip(itertools.count(),data['city']))\n",
    "print(data1)"
   ]
  },
  {
   "cell_type": "code",
   "execution_count": 28,
   "metadata": {},
   "outputs": [
    {
     "name": "stdout",
     "output_type": "stream",
     "text": [
      "{3: 9, 4: 16, 5: 25, 8: 64, 9: 81, 11: 121, 13: 169, 15: 225, 16: 256, 17: 289}\n"
     ]
    }
   ],
   "source": [
    "data=kill[['id','city']].head(10)\n",
    "data1=map(pow,data['id'],itertools.chain(itertools.repeat(2)))\n",
    "print(dict(zip(data['id'], data1)))\n",
    "#print(map(pow,list(data[id]),itertools.repeat(2)))"
   ]
  },
  {
   "cell_type": "code",
   "execution_count": 31,
   "metadata": {},
   "outputs": [
    {
     "name": "stdout",
     "output_type": "stream",
     "text": [
      "[(0, 'Shelton'), (1, 'Aloha'), (2, 'Wichita'), (3, 'San Francisco'), (4, 'Evans'), (5, 'Guthrie'), (6, 'Chandler'), (7, 'Assaria'), (8, 'Burlington'), (9, 'Knoxville')]\n",
      "_________________________\n",
      "(0, 1, 2, 3, 4, 5, 6, 7, 8, 9) ('Shelton', 'Aloha', 'Wichita', 'San Francisco', 'Evans', 'Guthrie', 'Chandler', 'Assaria', 'Burlington', 'Knoxville')\n"
     ]
    }
   ],
   "source": [
    "kill= pd.read_csv(r'C:\\Users\\shumondal\\Desktop\\data\\PoliceKillingsUS.csv', encoding=\"windows-1252\")\n",
    "data=kill[['id','city']].head(10)\n",
    "data1=  __builtins__.list(zip(itertools.count(),data['city']))\n",
    "print(data1)\n",
    "print(\"_________________________\")\n",
    "## How to unzip it from the zip data\n",
    "cnt,dt = zip(*data1)\n",
    "print(cnt,dt)"
   ]
  },
  {
   "cell_type": "code",
   "execution_count": 45,
   "metadata": {},
   "outputs": [
    {
     "name": "stdout",
     "output_type": "stream",
     "text": [
      "[0, 1, 4, 9, 16, 25, 36, 49, 64, 81]\n",
      "{3: 9, 4: 16, 5: 25, 8: 64}\n"
     ]
    }
   ],
   "source": [
    "## Repeat from itertools. Suppose you want use in square for 10 numbers\n",
    "data= __builtins__.list(map(pow,range(10),itertools.repeat(2)))\n",
    "print(data)\n",
    "\n",
    "### itertools.chain - Used for treating consecutive sequences as a single sequence\n",
    "## Now I want to multiply with id columns with repeat function , them we need chain method\n",
    "data=kill[['id','city']].head(10)\n",
    "data1=map(pow,data['id'],itertools.chain(itertools.repeat(2,times=4)))\n",
    "print(dict(zip(data['id'], data1)))\n",
    "#print(map(pow,list(data[id]),itertools.repeat(2)))\n"
   ]
  },
  {
   "cell_type": "code",
   "execution_count": 117,
   "metadata": {},
   "outputs": [
    {
     "name": "stdout",
     "output_type": "stream",
     "text": [
      "[(1, 2), (1, 3), (2, 3)]\n"
     ]
    }
   ],
   "source": [
    "l=['a','b','c']\n",
    "n=[1,2,3]\n",
    "nm=['asd','bdh']\n",
    "data1=__builtins__.list(itertools.combinations(n,2))\n",
    "print(data1)\n"
   ]
  },
  {
   "cell_type": "code",
   "execution_count": 112,
   "metadata": {},
   "outputs": [
    {
     "name": "stdout",
     "output_type": "stream",
     "text": [
      "[(1, 2, 3), (1, 3, 2), (2, 1, 3), (2, 3, 1), (3, 1, 2), (3, 2, 1)]\n"
     ]
    }
   ],
   "source": [
    "## if you want to see combination of values in a list, use permutatons\n",
    "data2=__builtins__.list(itertools.permutations(n))\n",
    "print(data2)"
   ]
  },
  {
   "cell_type": "code",
   "execution_count": 122,
   "metadata": {},
   "outputs": [
    {
     "data": {
      "text/plain": [
       "['a', 'b', 'c', 1, 2, 3, 'asd', 'bdh']"
      ]
     },
     "execution_count": 122,
     "metadata": {},
     "output_type": "execute_result"
    }
   ],
   "source": [
    "## If you want to combine all list, then use chain.\n",
    "data3=__builtins__.list(itertools.chain(l,n,nm))\n",
    "data3"
   ]
  },
  {
   "cell_type": "code",
   "execution_count": 138,
   "metadata": {},
   "outputs": [
    {
     "name": "stdout",
     "output_type": "stream",
     "text": [
      "[(1, 2, 3), (1, 3, 2), (2, 1, 3), (2, 3, 1), (3, 1, 2), (3, 2, 1)]\n",
      "[(1, 2, 3), (2, 3, 1)]\n",
      "[(1, 2, 3), (1, 3, 2), (2, 1, 3)]\n"
     ]
    }
   ],
   "source": [
    "## Slice is to remove some elemenets from list of values (0,4,3 - 0 is the start element,4 - it will not go beyond 4 elements\n",
    "## in a list, 3 - it will pick the 4th elemenet from a list as it starts from 0)\n",
    "print(data2)\n",
    "print(__builtins__.list(itertools.islice(data2,0,4,3)))\n",
    "print(__builtins__.list(itertools.islice(data2,3)))  -- only print 3 elements"
   ]
  },
  {
   "cell_type": "code",
   "execution_count": 140,
   "metadata": {},
   "outputs": [
    {
     "data": {
      "text/plain": [
       "{(1, 1, 1),\n",
       " (5, 1, 1),\n",
       " (5, 5, 1),\n",
       " (10, 1, 1),\n",
       " (10, 5, 1),\n",
       " (10, 5, 5),\n",
       " (10, 10, 1),\n",
       " (10, 10, 5),\n",
       " (10, 10, 10),\n",
       " (20, 1, 1),\n",
       " (20, 5, 1),\n",
       " (20, 5, 5),\n",
       " (20, 10, 1),\n",
       " (20, 10, 5),\n",
       " (20, 10, 10),\n",
       " (20, 20, 1),\n",
       " (20, 20, 5),\n",
       " (20, 20, 10),\n",
       " (20, 20, 20)}"
      ]
     },
     "execution_count": 140,
     "metadata": {},
     "output_type": "execute_result"
    }
   ],
   "source": [
    "## Help you to find a combination of value, 3 -means it will pick 3 values and combine\n",
    "bills = [20, 20, 20, 10, 10, 10, 10, 10, 5, 5, 1, 1, 1, 1, 1]\n",
    "## set is used to remove deuplicates\n",
    "set(__builtins__.list(itertools.combinations(bills,3)))"
   ]
  },
  {
   "cell_type": "code",
   "execution_count": 151,
   "metadata": {},
   "outputs": [
    {
     "name": "stdout",
     "output_type": "stream",
     "text": [
      "[(2017, 1, 1), (2017, 1, 2), (2017, 1, 3), (2017, 2, 1), (2017, 2, 2), (2017, 2, 3), (2016, 1, 1), (2016, 1, 2), (2016, 1, 3), (2016, 2, 1), (2016, 2, 2), (2016, 2, 3)]\n"
     ]
    },
    {
     "data": {
      "text/html": [
       "<div>\n",
       "<style scoped>\n",
       "    .dataframe tbody tr th:only-of-type {\n",
       "        vertical-align: middle;\n",
       "    }\n",
       "\n",
       "    .dataframe tbody tr th {\n",
       "        vertical-align: top;\n",
       "    }\n",
       "\n",
       "    .dataframe thead th {\n",
       "        text-align: right;\n",
       "    }\n",
       "</style>\n",
       "<table border=\"1\" class=\"dataframe\">\n",
       "  <thead>\n",
       "    <tr style=\"text-align: right;\">\n",
       "      <th></th>\n",
       "      <th>year</th>\n",
       "      <th>month</th>\n",
       "      <th>day</th>\n",
       "    </tr>\n",
       "  </thead>\n",
       "  <tbody>\n",
       "    <tr>\n",
       "      <td>0</td>\n",
       "      <td>2017</td>\n",
       "      <td>1</td>\n",
       "      <td>1</td>\n",
       "    </tr>\n",
       "    <tr>\n",
       "      <td>1</td>\n",
       "      <td>2017</td>\n",
       "      <td>1</td>\n",
       "      <td>2</td>\n",
       "    </tr>\n",
       "    <tr>\n",
       "      <td>2</td>\n",
       "      <td>2017</td>\n",
       "      <td>1</td>\n",
       "      <td>3</td>\n",
       "    </tr>\n",
       "    <tr>\n",
       "      <td>3</td>\n",
       "      <td>2017</td>\n",
       "      <td>2</td>\n",
       "      <td>1</td>\n",
       "    </tr>\n",
       "    <tr>\n",
       "      <td>4</td>\n",
       "      <td>2017</td>\n",
       "      <td>2</td>\n",
       "      <td>2</td>\n",
       "    </tr>\n",
       "    <tr>\n",
       "      <td>5</td>\n",
       "      <td>2017</td>\n",
       "      <td>2</td>\n",
       "      <td>3</td>\n",
       "    </tr>\n",
       "    <tr>\n",
       "      <td>6</td>\n",
       "      <td>2016</td>\n",
       "      <td>1</td>\n",
       "      <td>1</td>\n",
       "    </tr>\n",
       "    <tr>\n",
       "      <td>7</td>\n",
       "      <td>2016</td>\n",
       "      <td>1</td>\n",
       "      <td>2</td>\n",
       "    </tr>\n",
       "    <tr>\n",
       "      <td>8</td>\n",
       "      <td>2016</td>\n",
       "      <td>1</td>\n",
       "      <td>3</td>\n",
       "    </tr>\n",
       "    <tr>\n",
       "      <td>9</td>\n",
       "      <td>2016</td>\n",
       "      <td>2</td>\n",
       "      <td>1</td>\n",
       "    </tr>\n",
       "    <tr>\n",
       "      <td>10</td>\n",
       "      <td>2016</td>\n",
       "      <td>2</td>\n",
       "      <td>2</td>\n",
       "    </tr>\n",
       "    <tr>\n",
       "      <td>11</td>\n",
       "      <td>2016</td>\n",
       "      <td>2</td>\n",
       "      <td>3</td>\n",
       "    </tr>\n",
       "  </tbody>\n",
       "</table>\n",
       "</div>"
      ],
      "text/plain": [
       "    year  month  day\n",
       "0   2017      1    1\n",
       "1   2017      1    2\n",
       "2   2017      1    3\n",
       "3   2017      2    1\n",
       "4   2017      2    2\n",
       "5   2017      2    3\n",
       "6   2016      1    1\n",
       "7   2016      1    2\n",
       "8   2016      1    3\n",
       "9   2016      2    1\n",
       "10  2016      2    2\n",
       "11  2016      2    3"
      ]
     },
     "execution_count": 151,
     "metadata": {},
     "output_type": "execute_result"
    }
   ],
   "source": [
    "## If you want to product of elements , use product method \n",
    "data1=__builtins__.list(itertools.product([2017, 2016], [1, 2], [1, 2, 3]))\n",
    "print(data1)\n",
    "datecols = ['year', 'month', 'day']\n",
    "dt= pd.DataFrame(data1,columns=datecols)\n",
    "dt"
   ]
  },
  {
   "cell_type": "code",
   "execution_count": null,
   "metadata": {},
   "outputs": [],
   "source": []
  },
  {
   "cell_type": "code",
   "execution_count": null,
   "metadata": {},
   "outputs": [],
   "source": []
  },
  {
   "cell_type": "code",
   "execution_count": null,
   "metadata": {},
   "outputs": [],
   "source": []
  },
  {
   "cell_type": "code",
   "execution_count": null,
   "metadata": {},
   "outputs": [],
   "source": []
  },
  {
   "cell_type": "code",
   "execution_count": null,
   "metadata": {},
   "outputs": [],
   "source": []
  },
  {
   "cell_type": "code",
   "execution_count": null,
   "metadata": {},
   "outputs": [],
   "source": []
  },
  {
   "cell_type": "code",
   "execution_count": null,
   "metadata": {},
   "outputs": [],
   "source": []
  },
  {
   "cell_type": "code",
   "execution_count": null,
   "metadata": {},
   "outputs": [],
   "source": []
  },
  {
   "cell_type": "code",
   "execution_count": null,
   "metadata": {},
   "outputs": [],
   "source": []
  },
  {
   "cell_type": "code",
   "execution_count": null,
   "metadata": {},
   "outputs": [],
   "source": []
  },
  {
   "cell_type": "code",
   "execution_count": null,
   "metadata": {},
   "outputs": [],
   "source": []
  },
  {
   "cell_type": "code",
   "execution_count": null,
   "metadata": {},
   "outputs": [],
   "source": []
  },
  {
   "cell_type": "code",
   "execution_count": null,
   "metadata": {},
   "outputs": [],
   "source": []
  },
  {
   "cell_type": "code",
   "execution_count": null,
   "metadata": {},
   "outputs": [],
   "source": []
  },
  {
   "cell_type": "code",
   "execution_count": null,
   "metadata": {},
   "outputs": [],
   "source": []
  },
  {
   "cell_type": "code",
   "execution_count": null,
   "metadata": {},
   "outputs": [],
   "source": []
  },
  {
   "cell_type": "code",
   "execution_count": null,
   "metadata": {},
   "outputs": [],
   "source": []
  },
  {
   "cell_type": "code",
   "execution_count": null,
   "metadata": {},
   "outputs": [],
   "source": []
  },
  {
   "cell_type": "code",
   "execution_count": null,
   "metadata": {},
   "outputs": [],
   "source": []
  },
  {
   "cell_type": "code",
   "execution_count": null,
   "metadata": {},
   "outputs": [],
   "source": []
  },
  {
   "cell_type": "code",
   "execution_count": null,
   "metadata": {},
   "outputs": [],
   "source": []
  },
  {
   "cell_type": "code",
   "execution_count": null,
   "metadata": {},
   "outputs": [],
   "source": []
  },
  {
   "cell_type": "code",
   "execution_count": null,
   "metadata": {},
   "outputs": [],
   "source": []
  },
  {
   "cell_type": "code",
   "execution_count": null,
   "metadata": {},
   "outputs": [],
   "source": []
  },
  {
   "cell_type": "code",
   "execution_count": null,
   "metadata": {},
   "outputs": [],
   "source": []
  },
  {
   "cell_type": "code",
   "execution_count": null,
   "metadata": {},
   "outputs": [],
   "source": []
  },
  {
   "cell_type": "code",
   "execution_count": null,
   "metadata": {},
   "outputs": [],
   "source": []
  },
  {
   "cell_type": "code",
   "execution_count": null,
   "metadata": {},
   "outputs": [],
   "source": []
  },
  {
   "cell_type": "code",
   "execution_count": null,
   "metadata": {},
   "outputs": [],
   "source": []
  },
  {
   "cell_type": "code",
   "execution_count": null,
   "metadata": {},
   "outputs": [],
   "source": []
  },
  {
   "cell_type": "code",
   "execution_count": null,
   "metadata": {},
   "outputs": [],
   "source": []
  },
  {
   "cell_type": "code",
   "execution_count": null,
   "metadata": {},
   "outputs": [],
   "source": []
  },
  {
   "cell_type": "code",
   "execution_count": null,
   "metadata": {},
   "outputs": [],
   "source": []
  },
  {
   "cell_type": "code",
   "execution_count": null,
   "metadata": {},
   "outputs": [],
   "source": []
  },
  {
   "cell_type": "code",
   "execution_count": null,
   "metadata": {},
   "outputs": [],
   "source": []
  },
  {
   "cell_type": "code",
   "execution_count": null,
   "metadata": {},
   "outputs": [],
   "source": []
  },
  {
   "cell_type": "code",
   "execution_count": null,
   "metadata": {},
   "outputs": [],
   "source": []
  },
  {
   "cell_type": "code",
   "execution_count": null,
   "metadata": {},
   "outputs": [],
   "source": []
  },
  {
   "cell_type": "code",
   "execution_count": null,
   "metadata": {},
   "outputs": [],
   "source": []
  },
  {
   "cell_type": "code",
   "execution_count": null,
   "metadata": {},
   "outputs": [],
   "source": []
  },
  {
   "cell_type": "code",
   "execution_count": null,
   "metadata": {},
   "outputs": [],
   "source": []
  },
  {
   "cell_type": "code",
   "execution_count": null,
   "metadata": {},
   "outputs": [],
   "source": []
  },
  {
   "cell_type": "code",
   "execution_count": null,
   "metadata": {},
   "outputs": [],
   "source": []
  },
  {
   "cell_type": "code",
   "execution_count": null,
   "metadata": {},
   "outputs": [],
   "source": []
  },
  {
   "cell_type": "code",
   "execution_count": null,
   "metadata": {},
   "outputs": [],
   "source": []
  },
  {
   "cell_type": "code",
   "execution_count": null,
   "metadata": {},
   "outputs": [],
   "source": []
  },
  {
   "cell_type": "code",
   "execution_count": null,
   "metadata": {},
   "outputs": [],
   "source": []
  }
 ],
 "metadata": {
  "kernelspec": {
   "display_name": "Python 3",
   "language": "python",
   "name": "python3"
  },
  "language_info": {
   "codemirror_mode": {
    "name": "ipython",
    "version": 3
   },
   "file_extension": ".py",
   "mimetype": "text/x-python",
   "name": "python",
   "nbconvert_exporter": "python",
   "pygments_lexer": "ipython3",
   "version": "3.7.3"
  }
 },
 "nbformat": 4,
 "nbformat_minor": 2
}
